{
 "cells": [
  {
   "cell_type": "code",
   "execution_count": 1,
   "id": "945cb7cb",
   "metadata": {},
   "outputs": [
    {
     "name": "stdout",
     "output_type": "stream",
     "text": [
      "Twinkle, Twinkle, little star,\n",
      "\tHow i wonder what you are!\n",
      "\t\tUp above the world so high,\n",
      "\t\tLike a diamond in the sky.\n",
      "Twinkle, Twinkle, little star,\n",
      "\tHow i wonder what you are\n"
     ]
    }
   ],
   "source": [
    "#Write a python program to print the string in a specific format.\n",
    "print('Twinkle, Twinkle, little star,\\n\\tHow i wonder what you are!\\n\\t\\tUp above the world so high,\\n\\t\\tLike a diamond in the sky.\\nTwinkle, Twinkle, little star,\\n\\tHow i wonder what you are')"
   ]
  },
  {
   "cell_type": "code",
   "execution_count": 2,
   "id": "e561d240",
   "metadata": {},
   "outputs": [
    {
     "name": "stdout",
     "output_type": "stream",
     "text": [
      "Your python version is:\n",
      "3.8.8 (default, Apr 13 2021, 15:08:03) [MSC v.1916 64 bit (AMD64)]\n",
      "\n",
      "\n",
      "The Version is:\n",
      "sys.version_info(major=3, minor=8, micro=8, releaselevel='final', serial=0)\n"
     ]
    }
   ],
   "source": [
    "#Write a python program to get the python version you are using.\n",
    "import sys\n",
    "print(\"Your python version is:\")\n",
    "print (sys.version)\n",
    "print(\"\\n\\nThe Version is:\")\n",
    "print (sys.version_info)\n"
   ]
  },
  {
   "cell_type": "code",
   "execution_count": 3,
   "id": "b592cf65",
   "metadata": {},
   "outputs": [
    {
     "name": "stdout",
     "output_type": "stream",
     "text": [
      "date and time = 24/10/2021 03:19:45\n"
     ]
    }
   ],
   "source": [
    "#Display current date and time using Python.\n",
    "from datetime import datetime\n",
    "# datetime object containing current date and time\n",
    "now = datetime.now()\n",
    " # dd/mm/YY H:M:S\n",
    "dt_string = now.strftime(\"%d/%m/%Y %H:%M:%S\")\n",
    "print(\"date and time =\", dt_string)\n"
   ]
  },
  {
   "cell_type": "code",
   "execution_count": 4,
   "id": "d0549249",
   "metadata": {},
   "outputs": [
    {
     "name": "stdout",
     "output_type": "stream",
     "text": [
      "Enter a radius:8\n",
      "The area of a circle is 201.088\n"
     ]
    }
   ],
   "source": [
    "#Python program which accept the radius of a circle and compute the area.\n",
    "r=int(input(\"Enter a radius:\"))\n",
    "p=3.142\n",
    "a=p*r**2\n",
    "print(\"The area of a circle is\",a)"
   ]
  },
  {
   "cell_type": "code",
   "execution_count": 5,
   "id": "9df3286e",
   "metadata": {},
   "outputs": [
    {
     "name": "stdout",
     "output_type": "stream",
     "text": [
      "Enter your first name:Muhammad\n",
      "Enter your last name:Humza\n",
      "dammahuM azmuH\n"
     ]
    }
   ],
   "source": [
    "#Python program which accepts first and last name and display them in reverse order..\n",
    "g=str(input(\"Enter your first name:\"))\n",
    "p=str(input(\"Enter your last name:\"))\n",
    "a=g[::-1]\n",
    "b=p[::-1]\n",
    "print(a+\" \"+b)"
   ]
  },
  {
   "cell_type": "code",
   "execution_count": 6,
   "id": "e7f39e08",
   "metadata": {},
   "outputs": [
    {
     "name": "stdout",
     "output_type": "stream",
     "text": [
      "Enter a number:24\n",
      "Enter a number:3\n",
      "27\n"
     ]
    }
   ],
   "source": [
    "#Python program which takes two input from user and perform addition bw them..\n",
    "a=int(input(\"Enter a number:\"))\n",
    "b=int(input(\"Enter a number:\"))\n",
    "c = a+b\n",
    "print(c)"
   ]
  },
  {
   "cell_type": "code",
   "execution_count": 7,
   "id": "7b982bd0",
   "metadata": {},
   "outputs": [
    {
     "name": "stdout",
     "output_type": "stream",
     "text": [
      "Enter your english marks;70\n",
      "Enter your maths marks;66\n",
      "Enter your islamiat marks;92\n",
      "Enter your urdu marks;84\n",
      "Enter your computer marks;92\n",
      "Congragulations Your Grade is A+\n"
     ]
    }
   ],
   "source": [
    "#Python program which takes marks of 5 different subjects, total it and generate grades (marksheet)\n",
    "a=int(input(\"Enter your english marks;\"))\n",
    "b=int(input(\"Enter your maths marks;\"))\n",
    "c=int(input(\"Enter your islamiat marks;\"))\n",
    "d=int(input(\"Enter your urdu marks;\"))\n",
    "e=int(input(\"Enter your computer marks;\"))\n",
    "f = 500 #total marks\n",
    "t=((a+b+c+d+e)/f)*100 #calculate percentage\n",
    "if t > 80 and t <= 100 :\n",
    " print(\"Congragulations Your Grade is A+\")\n",
    "elif t > 70 and t <= 80:\n",
    "    print(\"Your Grade is A\")\n",
    "elif t > 60 and t <= 70:\n",
    "    print(\"Your Grade is B\")\n",
    "elif t > 50 and t <= 60:  \n",
    "    print(\"Your Grade is C\")\n",
    "elif t > 40 and t <= 50:\n",
    "    print(\"Your Grade is D\")\n",
    "elif t > 33 and t <= 40:\n",
    "    print(\"Your Grade is E\")\n",
    "elif t < 33:\n",
    "    print(\"You Are Fail\")\n",
    "if t > 100 or t <= 0:\n",
    "    print(\"Invalid result\")"
   ]
  },
  {
   "cell_type": "code",
   "execution_count": 8,
   "id": "7040369d",
   "metadata": {},
   "outputs": [
    {
     "name": "stdout",
     "output_type": "stream",
     "text": [
      "Enter a number:99\n",
      "Odd Number\n"
     ]
    }
   ],
   "source": [
    "#Python program which takes two numeric value as input and show either the number is even or odd\n",
    "f=int(input(\"Enter a number:\"))\n",
    "r = f%2\n",
    "if (r == 0):\n",
    "    print(\"Even Number\")\n",
    "else:\n",
    "    print(\"Odd Number\")"
   ]
  },
  {
   "cell_type": "code",
   "execution_count": 9,
   "id": "8588180c",
   "metadata": {},
   "outputs": [
    {
     "name": "stdout",
     "output_type": "stream",
     "text": [
      "5\n"
     ]
    }
   ],
   "source": [
    "#Print the length of a list..\n",
    "List = [\"apple\",\"banana\",\"mango\",\"orange\",\"grapes\"]\n",
    "print(len(List))"
   ]
  },
  {
   "cell_type": "code",
   "execution_count": 10,
   "id": "ecabbb52",
   "metadata": {},
   "outputs": [
    {
     "name": "stdout",
     "output_type": "stream",
     "text": [
      "25\n"
     ]
    }
   ],
   "source": [
    "#Sum all the numeric items in the list\n",
    "a = [1, 1, 2, 3, 5, 0, 3, 1, 4, 5, 0]\n",
    "print(sum(a))"
   ]
  },
  {
   "cell_type": "code",
   "execution_count": 11,
   "id": "07a45fd9",
   "metadata": {},
   "outputs": [
    {
     "name": "stdout",
     "output_type": "stream",
     "text": [
      "89\n"
     ]
    }
   ],
   "source": [
    "#Find the largest number from the list..\n",
    "a = [1, 1, 2, 3, 5, 8, 13, 21, 34, 55, 89]\n",
    "print(max(a))"
   ]
  },
  {
   "cell_type": "code",
   "execution_count": 12,
   "id": "2c98425c",
   "metadata": {},
   "outputs": [
    {
     "name": "stdout",
     "output_type": "stream",
     "text": [
      "1\n",
      "1\n",
      "2\n",
      "3\n"
     ]
    }
   ],
   "source": [
    "#A=[1,1,2,3,5,8,13,21,34,55,89]\n",
    "#Write a program that prints out all the elements of the list that are less than 05\n",
    "a = [1, 1, 2, 3, 5, 8, 13, 21, 34, 55, 89]\n",
    "for i in a:\n",
    "    if i < 5:\n",
    "        print(i)"
   ]
  },
  {
   "cell_type": "code",
   "execution_count": null,
   "id": "6aa52770",
   "metadata": {},
   "outputs": [],
   "source": []
  }
 ],
 "metadata": {
  "kernelspec": {
   "display_name": "Python 3",
   "language": "python",
   "name": "python3"
  },
  "language_info": {
   "codemirror_mode": {
    "name": "ipython",
    "version": 3
   },
   "file_extension": ".py",
   "mimetype": "text/x-python",
   "name": "python",
   "nbconvert_exporter": "python",
   "pygments_lexer": "ipython3",
   "version": "3.8.8"
  }
 },
 "nbformat": 4,
 "nbformat_minor": 5
}
